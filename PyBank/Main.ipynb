{
 "cells": [
  {
   "cell_type": "markdown",
   "id": "be68f861-5101-4513-8dbb-4be63269a849",
   "metadata": {},
   "source": [
    "# PyBank"
   ]
  },
  {
   "cell_type": "code",
   "execution_count": 8,
   "id": "2071818a-157d-44f9-b323-af9e68558d4b",
   "metadata": {},
   "outputs": [],
   "source": [
    "import os\n",
    "import csv"
   ]
  },
  {
   "cell_type": "code",
   "execution_count": 29,
   "id": "aa782da8-a971-4dec-a280-113e0b24f3d8",
   "metadata": {},
   "outputs": [],
   "source": [
    "# reading in the csv\n",
    "csvpath = os.path.join(\"budget_data.csv\")\n",
    "\n",
    "# appending the data to a variable after it is read in\n",
    "pybank = []\n",
    "\n",
    "with open(csvpath) as csvfile:\n",
    "    csvreader = csv.reader(csvfile, delimiter = \",\")\n",
    "    csv_headers = next(csvreader)\n",
    "\n",
    "    for x in csvreader:\n",
    "        # where the data is appended\n",
    "        pybank.append(x)"
   ]
  },
  {
   "cell_type": "code",
   "execution_count": 30,
   "id": "3794b62c-879a-43aa-916f-b89d95aed553",
   "metadata": {},
   "outputs": [
    {
     "data": {
      "text/plain": [
       "[['Jan-10', '1088983'],\n",
       " ['Feb-10', '-354534'],\n",
       " ['Mar-10', '276622'],\n",
       " ['Apr-10', '-728133'],\n",
       " ['May-10', '852993'],\n",
       " ['Jun-10', '563721'],\n",
       " ['Jul-10', '-535208'],\n",
       " ['Aug-10', '632349'],\n",
       " ['Sep-10', '-173744'],\n",
       " ['Oct-10', '950741'],\n",
       " ['Nov-10', '-785750'],\n",
       " ['Dec-10', '-1194133'],\n",
       " ['Jan-11', '-589576'],\n",
       " ['Feb-11', '-883921'],\n",
       " ['Mar-11', '443564'],\n",
       " ['Apr-11', '837887'],\n",
       " ['May-11', '1081472'],\n",
       " ['Jun-11', '464033'],\n",
       " ['Jul-11', '-1066544'],\n",
       " ['Aug-11', '323846'],\n",
       " ['Sep-11', '-806551'],\n",
       " ['Oct-11', '487053'],\n",
       " ['Nov-11', '1128811'],\n",
       " ['Dec-11', '791398'],\n",
       " ['Jan-12', '739367'],\n",
       " ['Feb-12', '-197825'],\n",
       " ['Mar-12', '666016'],\n",
       " ['Apr-12', '589771'],\n",
       " ['May-12', '489290'],\n",
       " ['Jun-12', '-471439'],\n",
       " ['Jul-12', '120417'],\n",
       " ['Aug-12', '175347'],\n",
       " ['Sep-12', '855449'],\n",
       " ['Oct-12', '605195'],\n",
       " ['Nov-12', '-235220'],\n",
       " ['Dec-12', '347138'],\n",
       " ['Jan-13', '298510'],\n",
       " ['Feb-13', '163254'],\n",
       " ['Mar-13', '1141840'],\n",
       " ['Apr-13', '542630'],\n",
       " ['May-13', '99841'],\n",
       " ['Jun-13', '752765'],\n",
       " ['Jul-13', '-252949'],\n",
       " ['Aug-13', '914424'],\n",
       " ['Sep-13', '679524'],\n",
       " ['Oct-13', '514377'],\n",
       " ['Nov-13', '462102'],\n",
       " ['Dec-13', '159782'],\n",
       " ['Jan-14', '878810'],\n",
       " ['Feb-14', '-946748'],\n",
       " ['Mar-14', '340335'],\n",
       " ['Apr-14', '292032'],\n",
       " ['May-14', '502266'],\n",
       " ['Jun-14', '265852'],\n",
       " ['Jul-14', '851017'],\n",
       " ['Aug-14', '-549615'],\n",
       " ['Sep-14', '290162'],\n",
       " ['Oct-14', '755391'],\n",
       " ['Nov-14', '1073202'],\n",
       " ['Dec-14', '313000'],\n",
       " ['Jan-15', '241132'],\n",
       " ['Feb-15', '1036589'],\n",
       " ['Mar-15', '853904'],\n",
       " ['Apr-15', '-388932'],\n",
       " ['May-15', '982952'],\n",
       " ['Jun-15', '537759'],\n",
       " ['Jul-15', '547784'],\n",
       " ['Aug-15', '-496214'],\n",
       " ['Sep-15', '854181'],\n",
       " ['Oct-15', '934719'],\n",
       " ['Nov-15', '-288531'],\n",
       " ['Dec-15', '-184383'],\n",
       " ['Jan-16', '659541'],\n",
       " ['Feb-16', '-1149123'],\n",
       " ['Mar-16', '355882'],\n",
       " ['Apr-16', '662284'],\n",
       " ['May-16', '518681'],\n",
       " ['Jun-16', '-748256'],\n",
       " ['Jul-16', '-910775'],\n",
       " ['Aug-16', '951227'],\n",
       " ['Sep-16', '898241'],\n",
       " ['Oct-16', '-729004'],\n",
       " ['Nov-16', '-112209'],\n",
       " ['Dec-16', '516313'],\n",
       " ['Jan-17', '607208'],\n",
       " ['Feb-17', '382539']]"
      ]
     },
     "execution_count": 30,
     "metadata": {},
     "output_type": "execute_result"
    }
   ],
   "source": [
    "pybank"
   ]
  },
  {
   "cell_type": "code",
   "execution_count": 31,
   "id": "fee90467-97cf-4233-99bb-dc0e23aa2192",
   "metadata": {},
   "outputs": [],
   "source": [
    "# counting the num of rows to get the num of months\n",
    "months_count = len(pybank)"
   ]
  },
  {
   "cell_type": "code",
   "execution_count": 32,
   "id": "cb5867c3-f592-4e1c-a839-541059df2552",
   "metadata": {},
   "outputs": [
    {
     "data": {
      "text/plain": [
       "86"
      ]
     },
     "execution_count": 32,
     "metadata": {},
     "output_type": "execute_result"
    }
   ],
   "source": [
    "months_count"
   ]
  },
  {
   "cell_type": "code",
   "execution_count": 33,
   "id": "e12dccc6-fb92-4a51-9659-f101f64e4496",
   "metadata": {},
   "outputs": [],
   "source": [
    "net_total = 0\n",
    "\n",
    "# Iterate over the data to calculate net_total\n",
    "for month_data in pybank:\n",
    "\n",
    "    profit_losses = int(month_data[1])\n",
    "\n",
    "    net_total += profit_losses"
   ]
  },
  {
   "cell_type": "code",
   "execution_count": 34,
   "id": "1b476c16-1553-4bf7-9f31-9178cc3de96f",
   "metadata": {},
   "outputs": [
    {
     "data": {
      "text/plain": [
       "22564198"
      ]
     },
     "execution_count": 34,
     "metadata": {},
     "output_type": "execute_result"
    }
   ],
   "source": [
    "net_total"
   ]
  },
  {
   "cell_type": "code",
   "execution_count": 35,
   "id": "0e3da6ac-ff5e-44d3-83d5-cc8eed6e4ced",
   "metadata": {},
   "outputs": [],
   "source": [
    "changes = []\n",
    "\n",
    "# iterate through data set\n",
    "for i in range(1, len(pybank)):\n",
    "    # creating container variables to hold data and be updated as iteration continues\n",
    "    profit_losses_this_month = int(pybank[i][1])\n",
    "    profit_losses_last_month = int(pybank[i-1][1])\n",
    "    \n",
    "    # finding the change month to month\n",
    "    change = profit_losses_this_month - profit_losses_last_month\n",
    "    changes.append(change)\n",
    "\n",
    "# getting avg change\n",
    "average_change = sum(changes) / len(changes)"
   ]
  },
  {
   "cell_type": "code",
   "execution_count": 36,
   "id": "3f404ec1-4b9d-491e-8b34-8708ed306098",
   "metadata": {},
   "outputs": [],
   "source": [
    "average_change = round(average_change, 2)"
   ]
  },
  {
   "cell_type": "code",
   "execution_count": 37,
   "id": "031179d1-1219-4ec9-a53c-16ddf95ff0ad",
   "metadata": {},
   "outputs": [
    {
     "data": {
      "text/plain": [
       "-8311.11"
      ]
     },
     "execution_count": 37,
     "metadata": {},
     "output_type": "execute_result"
    }
   ],
   "source": [
    "average_change"
   ]
  },
  {
   "cell_type": "code",
   "execution_count": 38,
   "id": "9367b7ed-c54c-4a8e-9f76-31136d3c200e",
   "metadata": {},
   "outputs": [],
   "source": [
    "# creating variables to hold the changes\n",
    "greatest_increase = 0\n",
    "greatest_increase_date = ''\n",
    "\n",
    "# iterating over the data\n",
    "for i in range(1, len(pybank)):\n",
    "    profit_losses_this_month = int(pybank[i][1])\n",
    "    profit_losses_last_month = int(pybank[i-1][1])\n",
    "    \n",
    "    # finding the change from month to month\n",
    "    change = profit_losses_this_month - profit_losses_last_month\n",
    "    \n",
    "    # updateing the variable place holders\n",
    "    if change > greatest_increase:\n",
    "        greatest_increase = change\n",
    "        greatest_increase_date = pybank[i][0]"
   ]
  },
  {
   "cell_type": "code",
   "execution_count": 43,
   "id": "f700b0f3-70ec-48e5-ace8-e6c9d201826f",
   "metadata": {},
   "outputs": [],
   "source": [
    "gi = greatest_increase, greatest_increase_date"
   ]
  },
  {
   "cell_type": "code",
   "execution_count": 40,
   "id": "e4ce56bd-eeea-479b-bf14-d860ff351c20",
   "metadata": {},
   "outputs": [],
   "source": [
    "# now doing the same process as above just inversed\n",
    "greatest_decrease = 0\n",
    "greatest_decrease_date = ''\n",
    "\n",
    "for i in range(1, len(pybank)):\n",
    "    profit_losses_this_month = int(pybank[i][1])\n",
    "    profit_losses_last_month = int(pybank[i-1][1])\n",
    "    \n",
    "    change = profit_losses_this_month - profit_losses_last_month\n",
    "    \n",
    "    if change < greatest_decrease:\n",
    "        greatest_decrease = change\n",
    "        greatest_decrease_date = pybank[i][0]\n"
   ]
  },
  {
   "cell_type": "code",
   "execution_count": 44,
   "id": "5208c117-b48c-43c8-a879-ff84df15f1ec",
   "metadata": {},
   "outputs": [],
   "source": [
    "gd = greatest_decrease, greatest_decrease_date"
   ]
  },
  {
   "cell_type": "code",
   "execution_count": 50,
   "id": "87cc9536-021a-441c-a5e8-abcaa0c540d2",
   "metadata": {},
   "outputs": [
    {
     "name": "stdout",
     "output_type": "stream",
     "text": [
      "Total Months is 86,\n",
      "Total is $22564198,\n",
      "Average Change is $-8311.11,\n",
      "Greatest increase in profits is $(1862002, 'Aug-16'),\n",
      "Greatest decrease in profits is $(-1825558, 'Feb-14')\n"
     ]
    }
   ],
   "source": [
    "# printing a f statement for the answers calculated to double check amounts\n",
    "print(f\"\"\"Total Months is {months_count},\n",
    "Total is ${net_total},\n",
    "Average Change is ${average_change},\n",
    "Greatest increase in profits is ${gi},\n",
    "Greatest decrease in profits is ${gd}\"\"\")"
   ]
  },
  {
   "cell_type": "code",
   "execution_count": 53,
   "id": "d7e54dcd-bf50-4475-827a-929b659b41ae",
   "metadata": {},
   "outputs": [],
   "source": [
    "# exporting to txt file \n",
    "with open('results_bank.txt', 'w') as file:\n",
    "    file.write(f\"\"\"Total Months is {months_count},\n",
    "Total is ${net_total},\n",
    "Average Change is ${average_change},\n",
    "Greatest increase in profits is ${gi},\n",
    "Greatest decrease in profits is ${gd}\"\"\")"
   ]
  },
  {
   "cell_type": "code",
   "execution_count": null,
   "id": "e37a6723-8815-4fbb-8a0b-48169657feb0",
   "metadata": {},
   "outputs": [],
   "source": []
  },
  {
   "cell_type": "code",
   "execution_count": null,
   "id": "5c2ffdbd-10e8-44d0-8861-fca967009d3b",
   "metadata": {},
   "outputs": [],
   "source": []
  },
  {
   "cell_type": "code",
   "execution_count": null,
   "id": "723ec01f-f10a-4042-a1de-a9e0f5b67cdb",
   "metadata": {},
   "outputs": [],
   "source": []
  },
  {
   "cell_type": "code",
   "execution_count": null,
   "id": "e97649ea-cab0-435b-8e59-09a60093962d",
   "metadata": {},
   "outputs": [],
   "source": []
  },
  {
   "cell_type": "code",
   "execution_count": null,
   "id": "d387c52c-b062-47d7-b4e8-5ada91b35843",
   "metadata": {},
   "outputs": [],
   "source": []
  },
  {
   "cell_type": "code",
   "execution_count": null,
   "id": "3e8ac8a6-c4e2-405d-ba9a-bb555bb6b49e",
   "metadata": {},
   "outputs": [],
   "source": []
  },
  {
   "cell_type": "code",
   "execution_count": null,
   "id": "425dc948-b469-4932-b0f6-479bf7e9e94e",
   "metadata": {},
   "outputs": [],
   "source": []
  },
  {
   "cell_type": "code",
   "execution_count": null,
   "id": "d45f9d11-3dc8-42f3-b0a1-1c341d550904",
   "metadata": {},
   "outputs": [],
   "source": []
  },
  {
   "cell_type": "code",
   "execution_count": null,
   "id": "c4d03adf-29f7-435c-9f6b-4c80e3488cb7",
   "metadata": {},
   "outputs": [],
   "source": []
  },
  {
   "cell_type": "code",
   "execution_count": null,
   "id": "dcac475b-1704-4795-9bee-3541afa914f8",
   "metadata": {},
   "outputs": [],
   "source": []
  },
  {
   "cell_type": "code",
   "execution_count": null,
   "id": "6f99cac6-8d4a-40a9-a05e-eb7a85774271",
   "metadata": {},
   "outputs": [],
   "source": []
  },
  {
   "cell_type": "code",
   "execution_count": null,
   "id": "6ff72e47-ff6a-46ca-9f41-ba8e9349d67a",
   "metadata": {},
   "outputs": [],
   "source": []
  },
  {
   "cell_type": "code",
   "execution_count": null,
   "id": "7e191cb3-0716-4d4f-a5f6-63353c93be06",
   "metadata": {},
   "outputs": [],
   "source": []
  },
  {
   "cell_type": "code",
   "execution_count": null,
   "id": "4fbff0d9-2ee1-4c92-9494-edef0c3db542",
   "metadata": {},
   "outputs": [],
   "source": []
  },
  {
   "cell_type": "code",
   "execution_count": null,
   "id": "3a672ef3-b1cf-4183-b1cd-b064ebb29f51",
   "metadata": {},
   "outputs": [],
   "source": []
  },
  {
   "cell_type": "code",
   "execution_count": null,
   "id": "ab55ad9d-9fe2-4e8f-be53-9abfcb5732f5",
   "metadata": {},
   "outputs": [],
   "source": []
  },
  {
   "cell_type": "code",
   "execution_count": null,
   "id": "c9e8f44c-2efa-4d4a-8f9c-23ac6a06c59b",
   "metadata": {},
   "outputs": [],
   "source": []
  },
  {
   "cell_type": "code",
   "execution_count": null,
   "id": "9bd952c2-7afc-40e6-9304-c0cbb972d601",
   "metadata": {},
   "outputs": [],
   "source": []
  },
  {
   "cell_type": "code",
   "execution_count": null,
   "id": "824b53ba-2d1e-4d08-993c-a319e94d94ae",
   "metadata": {},
   "outputs": [],
   "source": []
  },
  {
   "cell_type": "code",
   "execution_count": null,
   "id": "40e7d3f8-cfa9-4f6b-9191-f78706f21bb5",
   "metadata": {},
   "outputs": [],
   "source": []
  },
  {
   "cell_type": "code",
   "execution_count": null,
   "id": "1bade9f7-7d4f-4dc3-9156-3c012b14e3d5",
   "metadata": {},
   "outputs": [],
   "source": []
  },
  {
   "cell_type": "code",
   "execution_count": null,
   "id": "12d20a2b-0fba-4564-9bcb-6a67ba00c9c3",
   "metadata": {},
   "outputs": [],
   "source": []
  },
  {
   "cell_type": "code",
   "execution_count": null,
   "id": "326a6553-9943-44d9-a9d5-8cfa2ef6d29a",
   "metadata": {},
   "outputs": [],
   "source": []
  },
  {
   "cell_type": "code",
   "execution_count": null,
   "id": "bb65952e-1012-4a71-b21e-aa831d4cc47a",
   "metadata": {},
   "outputs": [],
   "source": []
  },
  {
   "cell_type": "code",
   "execution_count": null,
   "id": "646cd53a-6c1e-414b-a882-d66b94a19e88",
   "metadata": {},
   "outputs": [],
   "source": []
  },
  {
   "cell_type": "code",
   "execution_count": null,
   "id": "f2dfbe47-6d59-42f7-bd26-dff76293bede",
   "metadata": {},
   "outputs": [],
   "source": []
  },
  {
   "cell_type": "code",
   "execution_count": null,
   "id": "b19888cc-5352-4219-b714-9316a7f72101",
   "metadata": {},
   "outputs": [],
   "source": []
  },
  {
   "cell_type": "code",
   "execution_count": null,
   "id": "67c39c77-eed4-4c31-a17b-46e5bdc8e310",
   "metadata": {},
   "outputs": [],
   "source": []
  },
  {
   "cell_type": "code",
   "execution_count": null,
   "id": "bcbe2108-ecc4-4d4c-b745-e3fac6ec4e93",
   "metadata": {},
   "outputs": [],
   "source": []
  },
  {
   "cell_type": "code",
   "execution_count": null,
   "id": "17879aab-08d6-4fae-86cd-6f60d6ec53e6",
   "metadata": {},
   "outputs": [],
   "source": []
  },
  {
   "cell_type": "code",
   "execution_count": null,
   "id": "5e67aeb6-1386-4135-8474-f75324e7ce40",
   "metadata": {},
   "outputs": [],
   "source": []
  },
  {
   "cell_type": "code",
   "execution_count": null,
   "id": "3ba27a55-6e3f-4d2b-89ac-a4af084b9eef",
   "metadata": {},
   "outputs": [],
   "source": []
  },
  {
   "cell_type": "code",
   "execution_count": null,
   "id": "4a571eff-9c54-4802-a222-a28dcffdb10e",
   "metadata": {},
   "outputs": [],
   "source": []
  },
  {
   "cell_type": "code",
   "execution_count": null,
   "id": "26a4fbca-fb49-4b94-b520-b5c3012c2652",
   "metadata": {},
   "outputs": [],
   "source": []
  },
  {
   "cell_type": "code",
   "execution_count": null,
   "id": "374de74a-f3e9-43ee-ac70-3e98b2e83a8d",
   "metadata": {},
   "outputs": [],
   "source": []
  },
  {
   "cell_type": "code",
   "execution_count": null,
   "id": "ab5b1128-8ae1-438e-865c-22d2d743e065",
   "metadata": {},
   "outputs": [],
   "source": []
  },
  {
   "cell_type": "code",
   "execution_count": null,
   "id": "104b4bd1-6398-4705-bf97-27c39b815adf",
   "metadata": {},
   "outputs": [],
   "source": []
  },
  {
   "cell_type": "code",
   "execution_count": null,
   "id": "e33e22aa-3410-42ed-a404-8f0a1c94ea52",
   "metadata": {},
   "outputs": [],
   "source": []
  },
  {
   "cell_type": "code",
   "execution_count": null,
   "id": "e93f3668-ecc1-4c64-8764-f92852de40b8",
   "metadata": {},
   "outputs": [],
   "source": []
  },
  {
   "cell_type": "code",
   "execution_count": null,
   "id": "4f1a82af-6060-41ac-9b23-9af688755581",
   "metadata": {},
   "outputs": [],
   "source": []
  }
 ],
 "metadata": {
  "kernelspec": {
   "display_name": "Python 3 (ipykernel)",
   "language": "python",
   "name": "python3"
  },
  "language_info": {
   "codemirror_mode": {
    "name": "ipython",
    "version": 3
   },
   "file_extension": ".py",
   "mimetype": "text/x-python",
   "name": "python",
   "nbconvert_exporter": "python",
   "pygments_lexer": "ipython3",
   "version": "3.11.7"
  }
 },
 "nbformat": 4,
 "nbformat_minor": 5
}
